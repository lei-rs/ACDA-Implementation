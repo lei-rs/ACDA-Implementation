{
 "cells": [
  {
   "cell_type": "code",
   "execution_count": null,
   "outputs": [],
   "source": [
    "import numpy as np\n",
    "import cv2\n",
    "\n",
    "gb = cv2.getGaborKernel((21, 21), 2.5, 0, 10, 1, 0)"
   ],
   "metadata": {
    "collapsed": false,
    "ExecuteTime": {
     "end_time": "2023-05-03T02:35:50.800619900Z",
     "start_time": "2023-05-03T02:35:50.779796300Z"
    }
   }
  },
  {
   "cell_type": "code",
   "execution_count": null,
   "outputs": [],
   "source": [
    "from matplotlib import pyplot as plt\n",
    "plt.imshow(gb, cmap='hot', interpolation='nearest')\n",
    "plt.show()"
   ],
   "metadata": {
    "collapsed": false,
    "ExecuteTime": {
     "end_time": "2023-05-03T02:35:51.238903600Z",
     "start_time": "2023-05-03T02:35:51.152969500Z"
    }
   }
  },
  {
   "cell_type": "code",
   "execution_count": null,
   "outputs": [],
   "source": [
    "import math\n",
    "\n",
    "def gabor(size, m, n):\n",
    "    filters = np.zeros((m, n), np.ndarray)\n",
    "\n",
    "    for M in range(m):\n",
    "        for N in range(n):\n",
    "            omega = ((math.pi / 2) * (math.sqrt(2) ** (-M + 1)))\n",
    "            theta = N / n * math.pi\n",
    "            sigma = math.pi / omega\n",
    "            lambd =  2 * math.pi / omega\n",
    "            filters[M][N] = cv2.getGaborKernel(size, sigma, theta, lambd, 1, 0)\n",
    "\n",
    "    return filters"
   ],
   "metadata": {
    "collapsed": false,
    "ExecuteTime": {
     "end_time": "2023-05-03T03:22:38.636286100Z",
     "start_time": "2023-05-03T03:22:38.608183500Z"
    }
   }
  },
  {
   "cell_type": "code",
   "execution_count": null,
   "outputs": [],
   "source": [
    "gbs = gabor((11, 11), 5, 10)"
   ],
   "metadata": {
    "collapsed": false,
    "ExecuteTime": {
     "end_time": "2023-05-03T03:29:43.021713800Z",
     "start_time": "2023-05-03T03:29:42.994803400Z"
    }
   }
  },
  {
   "cell_type": "code",
   "execution_count": null,
   "outputs": [],
   "source": [
    "fig, axes = plt.subplots(nrows=5, ncols=10)\n",
    "\n",
    "for i in range(5):\n",
    "    for j in range(10):\n",
    "        axes[i, j].imshow(gbs[i][j], cmap='hot', interpolation='nearest')\n",
    "        axes[i, j].axis('off')"
   ],
   "metadata": {
    "collapsed": false,
    "ExecuteTime": {
     "end_time": "2023-05-03T03:29:43.878222400Z",
     "start_time": "2023-05-03T03:29:43.304621500Z"
    }
   }
  },
  {
   "cell_type": "code",
   "execution_count": null,
   "outputs": [],
   "source": [
    "from fb import *\n",
    "fb = bases_list(11, 6)\n",
    "print(fb.shape)"
   ],
   "metadata": {
    "collapsed": false,
    "ExecuteTime": {
     "end_time": "2023-05-03T03:54:30.520506100Z",
     "start_time": "2023-05-03T03:54:30.463296600Z"
    }
   }
  },
  {
   "cell_type": "code",
   "execution_count": null,
   "outputs": [],
   "source": [
    "plt.imshow(fb.numpy()[-2].reshape((11, 11)), cmap='hot', interpolation='nearest')"
   ],
   "metadata": {
    "collapsed": false,
    "ExecuteTime": {
     "end_time": "2023-05-03T03:48:49.302147500Z",
     "start_time": "2023-05-03T03:48:49.190675300Z"
    }
   }
  },
  {
   "cell_type": "code",
   "execution_count": null,
   "outputs": [],
   "source": [
    "6 // 2"
   ],
   "metadata": {
    "collapsed": false,
    "ExecuteTime": {
     "end_time": "2023-05-03T03:49:54.599866900Z",
     "start_time": "2023-05-03T03:49:54.545080500Z"
    }
   }
  },
  {
   "cell_type": "code",
   "execution_count": null,
   "outputs": [],
   "source": [
    "from model import get_gabor_bases\n",
    "get_gabor_bases(11, 6).shape"
   ],
   "metadata": {
    "collapsed": false,
    "ExecuteTime": {
     "end_time": "2023-05-03T04:15:07.499562300Z",
     "start_time": "2023-05-03T04:15:06.466435900Z"
    }
   }
  },
  {
   "cell_type": "code",
   "execution_count": null,
   "outputs": [],
   "source": [
    "import data\n",
    "dt = data.CIFAR10DataModule()"
   ],
   "metadata": {
    "collapsed": false,
    "ExecuteTime": {
     "end_time": "2023-05-03T05:10:55.135765400Z",
     "start_time": "2023-05-03T05:10:55.127792100Z"
    }
   }
  },
  {
   "cell_type": "code",
   "execution_count": null,
   "outputs": [],
   "source": [
    "dt.prepare_data()"
   ],
   "metadata": {
    "collapsed": false,
    "ExecuteTime": {
     "end_time": "2023-05-03T05:12:01.796316300Z",
     "start_time": "2023-05-03T05:11:57.877144800Z"
    }
   }
  },
  {
   "cell_type": "code",
   "execution_count": 2,
   "outputs": [
    {
     "name": "stdout",
     "output_type": "stream",
     "text": [
      "tensor([[0, 1, 2, 3],\n",
      "        [4, 5, 6, 7]])\n",
      "tensor([[0, 1],\n",
      "        [2, 3],\n",
      "        [4, 5],\n",
      "        [6, 7]])\n",
      "tensor([[0, 4],\n",
      "        [1, 5],\n",
      "        [2, 6],\n",
      "        [3, 7]])\n",
      "tensor([[0, 4],\n",
      "        [1, 5],\n",
      "        [2, 6],\n",
      "        [3, 7]])\n"
     ]
    }
   ],
   "source": [
    "import torch\n",
    "x = torch.arange(2*4).view(2, 4)\n",
    "print(x)\n",
    "print(x.view(4, 2))\n",
    "print(x.permute(1, 0))\n",
    "print(x.transpose(1, 0))"
   ],
   "metadata": {
    "collapsed": false,
    "ExecuteTime": {
     "start_time": "2023-05-04T19:16:41.620724Z",
     "end_time": "2023-05-04T19:16:41.633835Z"
    }
   }
  },
  {
   "cell_type": "code",
   "execution_count": 32,
   "outputs": [
    {
     "name": "stdout",
     "output_type": "stream",
     "text": [
      "tensor([[[[-2.0503, -0.4404, -0.4114,  0.4653],\n",
      "          [ 0.5350,  0.5561,  1.4243,  1.3563],\n",
      "          [ 0.8219, -0.6184, -0.3024, -1.6516],\n",
      "          [ 0.3067,  0.5065, -0.2464,  1.1752]],\n",
      "\n",
      "         [[-1.2896, -1.1360,  0.8746,  2.8707],\n",
      "          [-1.0344, -1.6423,  1.0631, -0.5996],\n",
      "          [-0.7735, -1.6041, -0.7816, -0.0622],\n",
      "          [ 0.6500, -0.7270, -1.1254,  0.7736]]],\n",
      "\n",
      "\n",
      "        [[[-0.8709, -0.0187, -0.9086, -1.4792],\n",
      "          [ 1.7138,  0.1830, -1.5960,  0.8265],\n",
      "          [ 1.5786, -1.5769, -0.2699,  0.7664],\n",
      "          [ 1.0048,  0.4769, -0.8448,  0.2598]],\n",
      "\n",
      "         [[ 1.5563, -0.0698, -0.3073,  0.4236],\n",
      "          [-0.6305, -0.7296, -0.1744, -1.0256],\n",
      "          [ 0.5227, -0.9579,  0.1254, -0.0491],\n",
      "          [-0.6453,  0.5264,  1.2212, -1.1934]]]])\n",
      "tensor([[[[[-2.0503, -0.4404,  0.5350,  0.5561],\n",
      "           [-1.2896, -1.1360, -1.0344, -1.6423]],\n",
      "\n",
      "          [[-0.4404, -0.4114,  0.5561,  1.4243],\n",
      "           [-1.1360,  0.8746, -1.6423,  1.0631]],\n",
      "\n",
      "          [[-0.4114,  0.4653,  1.4243,  1.3563],\n",
      "           [ 0.8746,  2.8707,  1.0631, -0.5996]]],\n",
      "\n",
      "\n",
      "         [[[ 0.5350,  0.5561,  0.8219, -0.6184],\n",
      "           [-1.0344, -1.6423, -0.7735, -1.6041]],\n",
      "\n",
      "          [[ 0.5561,  1.4243, -0.6184, -0.3024],\n",
      "           [-1.6423,  1.0631, -1.6041, -0.7816]],\n",
      "\n",
      "          [[ 1.4243,  1.3563, -0.3024, -1.6516],\n",
      "           [ 1.0631, -0.5996, -0.7816, -0.0622]]],\n",
      "\n",
      "\n",
      "         [[[ 0.8219, -0.6184,  0.3067,  0.5065],\n",
      "           [-0.7735, -1.6041,  0.6500, -0.7270]],\n",
      "\n",
      "          [[-0.6184, -0.3024,  0.5065, -0.2464],\n",
      "           [-1.6041, -0.7816, -0.7270, -1.1254]],\n",
      "\n",
      "          [[-0.3024, -1.6516, -0.2464,  1.1752],\n",
      "           [-0.7816, -0.0622, -1.1254,  0.7736]]]],\n",
      "\n",
      "\n",
      "\n",
      "        [[[[-0.8709, -0.0187,  1.7138,  0.1830],\n",
      "           [ 1.5563, -0.0698, -0.6305, -0.7296]],\n",
      "\n",
      "          [[-0.0187, -0.9086,  0.1830, -1.5960],\n",
      "           [-0.0698, -0.3073, -0.7296, -0.1744]],\n",
      "\n",
      "          [[-0.9086, -1.4792, -1.5960,  0.8265],\n",
      "           [-0.3073,  0.4236, -0.1744, -1.0256]]],\n",
      "\n",
      "\n",
      "         [[[ 1.7138,  0.1830,  1.5786, -1.5769],\n",
      "           [-0.6305, -0.7296,  0.5227, -0.9579]],\n",
      "\n",
      "          [[ 0.1830, -1.5960, -1.5769, -0.2699],\n",
      "           [-0.7296, -0.1744, -0.9579,  0.1254]],\n",
      "\n",
      "          [[-1.5960,  0.8265, -0.2699,  0.7664],\n",
      "           [-0.1744, -1.0256,  0.1254, -0.0491]]],\n",
      "\n",
      "\n",
      "         [[[ 1.5786, -1.5769,  1.0048,  0.4769],\n",
      "           [ 0.5227, -0.9579, -0.6453,  0.5264]],\n",
      "\n",
      "          [[-1.5769, -0.2699,  0.4769, -0.8448],\n",
      "           [-0.9579,  0.1254,  0.5264,  1.2212]],\n",
      "\n",
      "          [[-0.2699,  0.7664, -0.8448,  0.2598],\n",
      "           [ 0.1254, -0.0491,  1.2212, -1.1934]]]]])\n"
     ]
    },
    {
     "ename": "RuntimeError",
     "evalue": "permute(): duplicate dims are not allowed.",
     "output_type": "error",
     "traceback": [
      "\u001B[1;31m---------------------------------------------------------------------------\u001B[0m",
      "\u001B[1;31mRuntimeError\u001B[0m                              Traceback (most recent call last)",
      "Cell \u001B[1;32mIn[32], line 5\u001B[0m\n\u001B[0;32m      3\u001B[0m x \u001B[38;5;241m=\u001B[39m torch\u001B[38;5;241m.\u001B[39mnn\u001B[38;5;241m.\u001B[39mfunctional\u001B[38;5;241m.\u001B[39munfold(x, \u001B[38;5;241m2\u001B[39m, padding\u001B[38;5;241m=\u001B[39m\u001B[38;5;241m0\u001B[39m)\n\u001B[0;32m      4\u001B[0m \u001B[38;5;28mprint\u001B[39m(x\u001B[38;5;241m.\u001B[39mtranspose(\u001B[38;5;241m-\u001B[39m\u001B[38;5;241m1\u001B[39m, \u001B[38;5;241m-\u001B[39m\u001B[38;5;241m2\u001B[39m)\u001B[38;5;241m.\u001B[39mview(\u001B[38;5;241m2\u001B[39m, \u001B[38;5;241m3\u001B[39m, \u001B[38;5;241m3\u001B[39m, \u001B[38;5;241m2\u001B[39m, \u001B[38;5;241m-\u001B[39m\u001B[38;5;241m1\u001B[39m))\n\u001B[1;32m----> 5\u001B[0m \u001B[38;5;28mprint\u001B[39m(\u001B[43mx\u001B[49m\u001B[43m[\u001B[49m\u001B[38;5;28;43;01mNone\u001B[39;49;00m\u001B[43m,\u001B[49m\u001B[43m \u001B[49m\u001B[38;5;28;43;01mNone\u001B[39;49;00m\u001B[43m]\u001B[49m\u001B[38;5;241;43m.\u001B[39;49m\u001B[43mpermute\u001B[49m\u001B[43m(\u001B[49m\u001B[38;5;241;43m2\u001B[39;49m\u001B[43m,\u001B[49m\u001B[43m \u001B[49m\u001B[38;5;241;43m3\u001B[39;49m\u001B[43m,\u001B[49m\u001B[43m \u001B[49m\u001B[38;5;241;43m3\u001B[39;49m\u001B[43m,\u001B[49m\u001B[43m \u001B[49m\u001B[38;5;241;43m2\u001B[39;49m\u001B[43m,\u001B[49m\u001B[43m \u001B[49m\u001B[38;5;241;43m-\u001B[39;49m\u001B[38;5;241;43m1\u001B[39;49m\u001B[43m)\u001B[49m)\n",
      "\u001B[1;31mRuntimeError\u001B[0m: permute(): duplicate dims are not allowed."
     ]
    }
   ],
   "source": [
    "x = torch.randn(2, 2, 4, 4)\n",
    "print(x)\n",
    "x = torch.nn.functional.unfold(x, 2, padding=0)\n",
    "print(x.transpose(-1, -2).view(2, 3, 3, 2, -1))\n",
    "print(x[None, None].permute(2, 3, 3, 2, -1))"
   ],
   "metadata": {
    "collapsed": false,
    "ExecuteTime": {
     "start_time": "2023-05-04T19:37:17.510057Z",
     "end_time": "2023-05-04T19:37:17.524591Z"
    }
   }
  },
  {
   "cell_type": "code",
   "execution_count": 29,
   "outputs": [
    {
     "data": {
      "text/plain": "torch.Size([2, 6, 2])"
     },
     "execution_count": 29,
     "metadata": {},
     "output_type": "execute_result"
    }
   ],
   "source": [
    "x1 = torch.randn(2, 6, 1)\n",
    "x2 = torch.randn(1, 6, 2)\n",
    "(x1 * x2).shape"
   ],
   "metadata": {
    "collapsed": false,
    "ExecuteTime": {
     "start_time": "2023-05-04T19:47:26.190988Z",
     "end_time": "2023-05-04T19:47:26.196995Z"
    }
   }
  },
  {
   "cell_type": "code",
   "execution_count": null,
   "outputs": [],
   "source": [],
   "metadata": {
    "collapsed": false
   }
  }
 ],
 "metadata": {
  "kernelspec": {
   "display_name": "Python 3",
   "language": "python",
   "name": "python3"
  },
  "language_info": {
   "codemirror_mode": {
    "name": "ipython",
    "version": 2
   },
   "file_extension": ".py",
   "mimetype": "text/x-python",
   "name": "python",
   "nbconvert_exporter": "python",
   "pygments_lexer": "ipython2",
   "version": "2.7.6"
  }
 },
 "nbformat": 4,
 "nbformat_minor": 0
}
